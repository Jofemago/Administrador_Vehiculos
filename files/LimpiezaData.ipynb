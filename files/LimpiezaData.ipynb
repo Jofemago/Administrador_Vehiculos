{
 "cells": [
  {
   "cell_type": "code",
   "execution_count": 1,
   "metadata": {},
   "outputs": [],
   "source": [
    "import pandas as pd\n",
    "#import pandas_profiling\n",
    "from matplotlib import pyplot as plt\n",
    "import seaborn as sns\n",
    "\n",
    "%matplotlib inline\n",
    "pd.set_option('display.max_columns', 100)"
   ]
  },
  {
   "cell_type": "code",
   "execution_count": 2,
   "metadata": {},
   "outputs": [],
   "source": [
    "tableAutomoviles = '1.csv'\n",
    "tableMotocicletas = '2.csv'"
   ]
  },
  {
   "cell_type": "code",
   "execution_count": 3,
   "metadata": {},
   "outputs": [],
   "source": [
    "vehiculos = pd.read_csv(tableAutomoviles)\n",
    "motocicletas = pd.read_csv(tableMotocicletas)"
   ]
  },
  {
   "cell_type": "code",
   "execution_count": 4,
   "metadata": {},
   "outputs": [
    {
     "data": {
      "text/plain": [
       "(4452, 33)"
      ]
     },
     "execution_count": 4,
     "metadata": {},
     "output_type": "execute_result"
    }
   ],
   "source": [
    "vehiculos.shape"
   ]
  },
  {
   "cell_type": "code",
   "execution_count": 5,
   "metadata": {},
   "outputs": [
    {
     "data": {
      "text/plain": [
       "Index(['ID', 'TIPO', 'CLASE', 'MARCA', 'LINEA', 'CILINDRAJE', 'TONELAJE',\n",
       "       'PASAJE', 'MODELOS', 'Unnamed: 9', 'Unnamed: 10', 'Unnamed: 11',\n",
       "       'Unnamed: 12', 'Unnamed: 13', 'Unnamed: 14', 'Unnamed: 15',\n",
       "       'Unnamed: 16', 'Unnamed: 17', 'Unnamed: 18', 'Unnamed: 19',\n",
       "       'Unnamed: 20', 'Unnamed: 21', 'Unnamed: 22', 'Unnamed: 23',\n",
       "       'Unnamed: 24', 'Unnamed: 25', 'Unnamed: 26', 'Unnamed: 27',\n",
       "       'Unnamed: 28', 'Unnamed: 29', 'Unnamed: 30', 'Unnamed: 31',\n",
       "       'Unnamed: 32'],\n",
       "      dtype='object')"
      ]
     },
     "execution_count": 5,
     "metadata": {},
     "output_type": "execute_result"
    }
   ],
   "source": [
    "vehiculos.columns"
   ]
  },
  {
   "cell_type": "code",
   "execution_count": 6,
   "metadata": {},
   "outputs": [
    {
     "data": {
      "text/plain": [
       "Index(['ID', 'TIPO', 'CLASE', 'MARCA', 'LINEA', 'CILINDRAJE', 'TONELAJE',\n",
       "       'PASAJE', 'MODELOS', 'Unnamed: 9', 'Unnamed: 10', 'Unnamed: 11',\n",
       "       'Unnamed: 12', 'Unnamed: 13', 'Unnamed: 14', 'Unnamed: 15',\n",
       "       'Unnamed: 16', 'Unnamed: 17', 'Unnamed: 18', 'Unnamed: 19',\n",
       "       'Unnamed: 20', 'Unnamed: 21', 'Unnamed: 22', 'Unnamed: 23',\n",
       "       'Unnamed: 24', 'Unnamed: 25', 'Unnamed: 26', 'Unnamed: 27',\n",
       "       'Unnamed: 28', 'Unnamed: 29', 'Unnamed: 30', 'Unnamed: 31',\n",
       "       'Unnamed: 32'],\n",
       "      dtype='object')"
      ]
     },
     "execution_count": 6,
     "metadata": {},
     "output_type": "execute_result"
    }
   ],
   "source": [
    "motocicletas.columns"
   ]
  },
  {
   "cell_type": "code",
   "execution_count": 7,
   "metadata": {},
   "outputs": [
    {
     "data": {
      "text/html": [
       "<div>\n",
       "<style scoped>\n",
       "    .dataframe tbody tr th:only-of-type {\n",
       "        vertical-align: middle;\n",
       "    }\n",
       "\n",
       "    .dataframe tbody tr th {\n",
       "        vertical-align: top;\n",
       "    }\n",
       "\n",
       "    .dataframe thead th {\n",
       "        text-align: right;\n",
       "    }\n",
       "</style>\n",
       "<table border=\"1\" class=\"dataframe\">\n",
       "  <thead>\n",
       "    <tr style=\"text-align: right;\">\n",
       "      <th></th>\n",
       "      <th>ID</th>\n",
       "      <th>TIPO</th>\n",
       "      <th>CLASE</th>\n",
       "      <th>MARCA</th>\n",
       "      <th>LINEA</th>\n",
       "      <th>CILINDRAJE</th>\n",
       "      <th>TONELAJE</th>\n",
       "      <th>PASAJE</th>\n",
       "      <th>MODELOS</th>\n",
       "      <th>Unnamed: 9</th>\n",
       "      <th>Unnamed: 10</th>\n",
       "      <th>Unnamed: 11</th>\n",
       "      <th>Unnamed: 12</th>\n",
       "      <th>Unnamed: 13</th>\n",
       "      <th>Unnamed: 14</th>\n",
       "      <th>Unnamed: 15</th>\n",
       "      <th>Unnamed: 16</th>\n",
       "      <th>Unnamed: 17</th>\n",
       "      <th>Unnamed: 18</th>\n",
       "      <th>Unnamed: 19</th>\n",
       "      <th>Unnamed: 20</th>\n",
       "      <th>Unnamed: 21</th>\n",
       "      <th>Unnamed: 22</th>\n",
       "      <th>Unnamed: 23</th>\n",
       "      <th>Unnamed: 24</th>\n",
       "      <th>Unnamed: 25</th>\n",
       "      <th>Unnamed: 26</th>\n",
       "      <th>Unnamed: 27</th>\n",
       "      <th>Unnamed: 28</th>\n",
       "      <th>Unnamed: 29</th>\n",
       "      <th>Unnamed: 30</th>\n",
       "      <th>Unnamed: 31</th>\n",
       "      <th>Unnamed: 32</th>\n",
       "    </tr>\n",
       "  </thead>\n",
       "  <tbody>\n",
       "    <tr>\n",
       "      <th>0</th>\n",
       "      <td>NaN</td>\n",
       "      <td>NaN</td>\n",
       "      <td>NaN</td>\n",
       "      <td>NaN</td>\n",
       "      <td>NaN</td>\n",
       "      <td>NaN</td>\n",
       "      <td>NaN</td>\n",
       "      <td>NaN</td>\n",
       "      <td>1994</td>\n",
       "      <td>1995</td>\n",
       "      <td>1996</td>\n",
       "      <td>1997</td>\n",
       "      <td>1998</td>\n",
       "      <td>1999</td>\n",
       "      <td>2000</td>\n",
       "      <td>2001</td>\n",
       "      <td>2002</td>\n",
       "      <td>2003</td>\n",
       "      <td>2004</td>\n",
       "      <td>2005</td>\n",
       "      <td>2006</td>\n",
       "      <td>2007</td>\n",
       "      <td>2008</td>\n",
       "      <td>2009</td>\n",
       "      <td>2010</td>\n",
       "      <td>2011</td>\n",
       "      <td>2012</td>\n",
       "      <td>2013</td>\n",
       "      <td>2014</td>\n",
       "      <td>2015</td>\n",
       "      <td>2016</td>\n",
       "      <td>2017</td>\n",
       "      <td>2018</td>\n",
       "    </tr>\n",
       "    <tr>\n",
       "      <th>1</th>\n",
       "      <td>28681.0</td>\n",
       "      <td>AUTOMÓVILES</td>\n",
       "      <td>AUTOMOVIL</td>\n",
       "      <td>ACCURA</td>\n",
       "      <td>ACURA</td>\n",
       "      <td>3200.0</td>\n",
       "      <td>NaN</td>\n",
       "      <td>NaN</td>\n",
       "      <td>14900</td>\n",
       "      <td>16300</td>\n",
       "      <td>17400</td>\n",
       "      <td>18500</td>\n",
       "      <td>19700</td>\n",
       "      <td>21000</td>\n",
       "      <td>22300</td>\n",
       "      <td>23800</td>\n",
       "      <td>25300</td>\n",
       "      <td>27000</td>\n",
       "      <td>28700</td>\n",
       "      <td>30600</td>\n",
       "      <td>32500</td>\n",
       "      <td>34600</td>\n",
       "      <td>36800</td>\n",
       "      <td>39300</td>\n",
       "      <td>41800</td>\n",
       "      <td>44500</td>\n",
       "      <td>47300</td>\n",
       "      <td>50400</td>\n",
       "      <td>53600</td>\n",
       "      <td>57100</td>\n",
       "      <td>60800</td>\n",
       "      <td>63900</td>\n",
       "      <td>68900</td>\n",
       "    </tr>\n",
       "    <tr>\n",
       "      <th>2</th>\n",
       "      <td>25668.0</td>\n",
       "      <td>AUTOMÓVILES</td>\n",
       "      <td>AUTOMOVIL</td>\n",
       "      <td>ACURA</td>\n",
       "      <td>INTEGRA (LINEA BASE ESTANDAR)</td>\n",
       "      <td>1800.0</td>\n",
       "      <td>0</td>\n",
       "      <td>0.0</td>\n",
       "      <td>4930</td>\n",
       "      <td>5950</td>\n",
       "      <td>6400</td>\n",
       "      <td>6900</td>\n",
       "      <td>7380</td>\n",
       "      <td>7870</td>\n",
       "      <td>8520</td>\n",
       "      <td>9200</td>\n",
       "      <td>9870</td>\n",
       "      <td>10650</td>\n",
       "      <td>11400</td>\n",
       "      <td>12260</td>\n",
       "      <td>13220</td>\n",
       "      <td>14090</td>\n",
       "      <td>15240</td>\n",
       "      <td>16390</td>\n",
       "      <td>17530</td>\n",
       "      <td>18880</td>\n",
       "      <td>20320</td>\n",
       "      <td>21850</td>\n",
       "      <td>23480</td>\n",
       "      <td>25310</td>\n",
       "      <td>27310</td>\n",
       "      <td>28660</td>\n",
       "      <td>31000</td>\n",
       "    </tr>\n",
       "    <tr>\n",
       "      <th>3</th>\n",
       "      <td>1.0</td>\n",
       "      <td>AUTOMÓVILES</td>\n",
       "      <td>AUTOMOVIL</td>\n",
       "      <td>ACURA</td>\n",
       "      <td>INTEGRA 1.8 2P MT</td>\n",
       "      <td>1800.0</td>\n",
       "      <td>0</td>\n",
       "      <td>0.0</td>\n",
       "      <td>6240</td>\n",
       "      <td>7380</td>\n",
       "      <td>7870</td>\n",
       "      <td>8340</td>\n",
       "      <td>8900</td>\n",
       "      <td>9580</td>\n",
       "      <td>10260</td>\n",
       "      <td>10830</td>\n",
       "      <td>11600</td>\n",
       "      <td>12460</td>\n",
       "      <td>13320</td>\n",
       "      <td>14090</td>\n",
       "      <td>15140</td>\n",
       "      <td>16190</td>\n",
       "      <td>17250</td>\n",
       "      <td>18410</td>\n",
       "      <td>19750</td>\n",
       "      <td>20990</td>\n",
       "      <td>22420</td>\n",
       "      <td>23970</td>\n",
       "      <td>25590</td>\n",
       "      <td>27310</td>\n",
       "      <td>29520</td>\n",
       "      <td>30960</td>\n",
       "      <td>33100</td>\n",
       "    </tr>\n",
       "    <tr>\n",
       "      <th>4</th>\n",
       "      <td>2.0</td>\n",
       "      <td>AUTOMÓVILES</td>\n",
       "      <td>AUTOMOVIL</td>\n",
       "      <td>ACURA</td>\n",
       "      <td>INTEGRA 1.8 VTEC 4P MT</td>\n",
       "      <td>1797.0</td>\n",
       "      <td>0</td>\n",
       "      <td>0.0</td>\n",
       "      <td>4930</td>\n",
       "      <td>5950</td>\n",
       "      <td>6400</td>\n",
       "      <td>6900</td>\n",
       "      <td>7380</td>\n",
       "      <td>7870</td>\n",
       "      <td>8520</td>\n",
       "      <td>9200</td>\n",
       "      <td>9870</td>\n",
       "      <td>10650</td>\n",
       "      <td>11400</td>\n",
       "      <td>12260</td>\n",
       "      <td>13220</td>\n",
       "      <td>14090</td>\n",
       "      <td>15240</td>\n",
       "      <td>16390</td>\n",
       "      <td>17530</td>\n",
       "      <td>18880</td>\n",
       "      <td>20320</td>\n",
       "      <td>21850</td>\n",
       "      <td>23480</td>\n",
       "      <td>25310</td>\n",
       "      <td>27310</td>\n",
       "      <td>28660</td>\n",
       "      <td>31000</td>\n",
       "    </tr>\n",
       "  </tbody>\n",
       "</table>\n",
       "</div>"
      ],
      "text/plain": [
       "        ID         TIPO      CLASE   MARCA                          LINEA  \\\n",
       "0      NaN          NaN        NaN     NaN                            NaN   \n",
       "1  28681.0  AUTOMÓVILES  AUTOMOVIL  ACCURA                          ACURA   \n",
       "2  25668.0  AUTOMÓVILES  AUTOMOVIL   ACURA  INTEGRA (LINEA BASE ESTANDAR)   \n",
       "3      1.0  AUTOMÓVILES  AUTOMOVIL   ACURA              INTEGRA 1.8 2P MT   \n",
       "4      2.0  AUTOMÓVILES  AUTOMOVIL   ACURA         INTEGRA 1.8 VTEC 4P MT   \n",
       "\n",
       "   CILINDRAJE TONELAJE  PASAJE  MODELOS  Unnamed: 9  Unnamed: 10  Unnamed: 11  \\\n",
       "0         NaN      NaN     NaN     1994        1995         1996         1997   \n",
       "1      3200.0      NaN     NaN    14900       16300        17400        18500   \n",
       "2      1800.0        0     0.0     4930        5950         6400         6900   \n",
       "3      1800.0        0     0.0     6240        7380         7870         8340   \n",
       "4      1797.0        0     0.0     4930        5950         6400         6900   \n",
       "\n",
       "   Unnamed: 12  Unnamed: 13  Unnamed: 14  Unnamed: 15  Unnamed: 16  \\\n",
       "0         1998         1999         2000         2001         2002   \n",
       "1        19700        21000        22300        23800        25300   \n",
       "2         7380         7870         8520         9200         9870   \n",
       "3         8900         9580        10260        10830        11600   \n",
       "4         7380         7870         8520         9200         9870   \n",
       "\n",
       "   Unnamed: 17  Unnamed: 18  Unnamed: 19  Unnamed: 20  Unnamed: 21  \\\n",
       "0         2003         2004         2005         2006         2007   \n",
       "1        27000        28700        30600        32500        34600   \n",
       "2        10650        11400        12260        13220        14090   \n",
       "3        12460        13320        14090        15140        16190   \n",
       "4        10650        11400        12260        13220        14090   \n",
       "\n",
       "   Unnamed: 22  Unnamed: 23  Unnamed: 24  Unnamed: 25  Unnamed: 26  \\\n",
       "0         2008         2009         2010         2011         2012   \n",
       "1        36800        39300        41800        44500        47300   \n",
       "2        15240        16390        17530        18880        20320   \n",
       "3        17250        18410        19750        20990        22420   \n",
       "4        15240        16390        17530        18880        20320   \n",
       "\n",
       "   Unnamed: 27  Unnamed: 28  Unnamed: 29  Unnamed: 30  Unnamed: 31  \\\n",
       "0         2013         2014         2015         2016         2017   \n",
       "1        50400        53600        57100        60800        63900   \n",
       "2        21850        23480        25310        27310        28660   \n",
       "3        23970        25590        27310        29520        30960   \n",
       "4        21850        23480        25310        27310        28660   \n",
       "\n",
       "   Unnamed: 32  \n",
       "0         2018  \n",
       "1        68900  \n",
       "2        31000  \n",
       "3        33100  \n",
       "4        31000  "
      ]
     },
     "execution_count": 7,
     "metadata": {},
     "output_type": "execute_result"
    }
   ],
   "source": [
    "vehiculos.head()"
   ]
  },
  {
   "cell_type": "code",
   "execution_count": 8,
   "metadata": {},
   "outputs": [
    {
     "data": {
      "text/html": [
       "<div>\n",
       "<style scoped>\n",
       "    .dataframe tbody tr th:only-of-type {\n",
       "        vertical-align: middle;\n",
       "    }\n",
       "\n",
       "    .dataframe tbody tr th {\n",
       "        vertical-align: top;\n",
       "    }\n",
       "\n",
       "    .dataframe thead th {\n",
       "        text-align: right;\n",
       "    }\n",
       "</style>\n",
       "<table border=\"1\" class=\"dataframe\">\n",
       "  <thead>\n",
       "    <tr style=\"text-align: right;\">\n",
       "      <th></th>\n",
       "      <th>ID</th>\n",
       "      <th>TIPO</th>\n",
       "      <th>CLASE</th>\n",
       "      <th>MARCA</th>\n",
       "      <th>LINEA</th>\n",
       "      <th>CILINDRAJE</th>\n",
       "      <th>TONELAJE</th>\n",
       "      <th>PASAJE</th>\n",
       "      <th>MODELOS</th>\n",
       "      <th>Unnamed: 9</th>\n",
       "      <th>Unnamed: 10</th>\n",
       "      <th>Unnamed: 11</th>\n",
       "      <th>Unnamed: 12</th>\n",
       "      <th>Unnamed: 13</th>\n",
       "      <th>Unnamed: 14</th>\n",
       "      <th>Unnamed: 15</th>\n",
       "      <th>Unnamed: 16</th>\n",
       "      <th>Unnamed: 17</th>\n",
       "      <th>Unnamed: 18</th>\n",
       "      <th>Unnamed: 19</th>\n",
       "      <th>Unnamed: 20</th>\n",
       "      <th>Unnamed: 21</th>\n",
       "      <th>Unnamed: 22</th>\n",
       "      <th>Unnamed: 23</th>\n",
       "      <th>Unnamed: 24</th>\n",
       "      <th>Unnamed: 25</th>\n",
       "      <th>Unnamed: 26</th>\n",
       "      <th>Unnamed: 27</th>\n",
       "      <th>Unnamed: 28</th>\n",
       "      <th>Unnamed: 29</th>\n",
       "      <th>Unnamed: 30</th>\n",
       "      <th>Unnamed: 31</th>\n",
       "      <th>Unnamed: 32</th>\n",
       "    </tr>\n",
       "  </thead>\n",
       "  <tbody>\n",
       "    <tr>\n",
       "      <th>0</th>\n",
       "      <td>NaN</td>\n",
       "      <td>NaN</td>\n",
       "      <td>NaN</td>\n",
       "      <td>NaN</td>\n",
       "      <td>NaN</td>\n",
       "      <td>NaN</td>\n",
       "      <td>NaN</td>\n",
       "      <td>NaN</td>\n",
       "      <td>1994</td>\n",
       "      <td>1995.0</td>\n",
       "      <td>1996.0</td>\n",
       "      <td>1997.0</td>\n",
       "      <td>1998.0</td>\n",
       "      <td>1999.0</td>\n",
       "      <td>2000.0</td>\n",
       "      <td>2001.0</td>\n",
       "      <td>2002.0</td>\n",
       "      <td>2003.0</td>\n",
       "      <td>2004.0</td>\n",
       "      <td>2005.0</td>\n",
       "      <td>2006.0</td>\n",
       "      <td>2007.0</td>\n",
       "      <td>2008.0</td>\n",
       "      <td>2009.0</td>\n",
       "      <td>2010.0</td>\n",
       "      <td>2011.0</td>\n",
       "      <td>2012.0</td>\n",
       "      <td>2013.0</td>\n",
       "      <td>2014.0</td>\n",
       "      <td>2015.0</td>\n",
       "      <td>2016.0</td>\n",
       "      <td>2017.0</td>\n",
       "      <td>2018.0</td>\n",
       "    </tr>\n",
       "    <tr>\n",
       "      <th>1</th>\n",
       "      <td>7881.0</td>\n",
       "      <td>MOTOCICLETAS Y\\nMOTOCARROS</td>\n",
       "      <td>MOTOCICLETA</td>\n",
       "      <td>ACB</td>\n",
       "      <td>ACB 125 MT</td>\n",
       "      <td>125</td>\n",
       "      <td>0.0</td>\n",
       "      <td>0.0</td>\n",
       "      <td>370</td>\n",
       "      <td>380.0</td>\n",
       "      <td>380.0</td>\n",
       "      <td>380.0</td>\n",
       "      <td>380.0</td>\n",
       "      <td>380.0</td>\n",
       "      <td>380.0</td>\n",
       "      <td>480.0</td>\n",
       "      <td>577.0</td>\n",
       "      <td>670.0</td>\n",
       "      <td>760.0</td>\n",
       "      <td>860.0</td>\n",
       "      <td>860.0</td>\n",
       "      <td>860.0</td>\n",
       "      <td>957.0</td>\n",
       "      <td>1050.0</td>\n",
       "      <td>1150.0</td>\n",
       "      <td>1246.0</td>\n",
       "      <td>1340.0</td>\n",
       "      <td>1440.0</td>\n",
       "      <td>1630.0</td>\n",
       "      <td>1720.0</td>\n",
       "      <td>1910.0</td>\n",
       "      <td>2010.0</td>\n",
       "      <td>2100.0</td>\n",
       "    </tr>\n",
       "    <tr>\n",
       "      <th>2</th>\n",
       "      <td>7882.0</td>\n",
       "      <td>MOTOCICLETAS Y\\nMOTOCARROS</td>\n",
       "      <td>MOTOCICLETA</td>\n",
       "      <td>ACB</td>\n",
       "      <td>B-STRONG 110 MT</td>\n",
       "      <td>107</td>\n",
       "      <td>0.0</td>\n",
       "      <td>0.0</td>\n",
       "      <td>370</td>\n",
       "      <td>380.0</td>\n",
       "      <td>380.0</td>\n",
       "      <td>380.0</td>\n",
       "      <td>380.0</td>\n",
       "      <td>380.0</td>\n",
       "      <td>380.0</td>\n",
       "      <td>480.0</td>\n",
       "      <td>577.0</td>\n",
       "      <td>670.0</td>\n",
       "      <td>760.0</td>\n",
       "      <td>830.0</td>\n",
       "      <td>875.0</td>\n",
       "      <td>916.0</td>\n",
       "      <td>957.0</td>\n",
       "      <td>1010.0</td>\n",
       "      <td>1060.0</td>\n",
       "      <td>1080.0</td>\n",
       "      <td>1100.0</td>\n",
       "      <td>1150.0</td>\n",
       "      <td>1246.0</td>\n",
       "      <td>1340.0</td>\n",
       "      <td>1440.0</td>\n",
       "      <td>1510.0</td>\n",
       "      <td>1800.0</td>\n",
       "    </tr>\n",
       "    <tr>\n",
       "      <th>3</th>\n",
       "      <td>7883.0</td>\n",
       "      <td>MOTOCICLETAS Y\\nMOTOCARROS</td>\n",
       "      <td>MOTOCICLETA</td>\n",
       "      <td>ACB</td>\n",
       "      <td>FORTRESS 125 AT</td>\n",
       "      <td>125</td>\n",
       "      <td>0.0</td>\n",
       "      <td>0.0</td>\n",
       "      <td>370</td>\n",
       "      <td>380.0</td>\n",
       "      <td>380.0</td>\n",
       "      <td>380.0</td>\n",
       "      <td>480.0</td>\n",
       "      <td>577.0</td>\n",
       "      <td>670.0</td>\n",
       "      <td>760.0</td>\n",
       "      <td>760.0</td>\n",
       "      <td>760.0</td>\n",
       "      <td>860.0</td>\n",
       "      <td>957.0</td>\n",
       "      <td>1050.0</td>\n",
       "      <td>1150.0</td>\n",
       "      <td>1246.0</td>\n",
       "      <td>1246.0</td>\n",
       "      <td>1440.0</td>\n",
       "      <td>1630.0</td>\n",
       "      <td>1720.0</td>\n",
       "      <td>1910.0</td>\n",
       "      <td>2110.0</td>\n",
       "      <td>2200.0</td>\n",
       "      <td>2400.0</td>\n",
       "      <td>2520.0</td>\n",
       "      <td>3000.0</td>\n",
       "    </tr>\n",
       "    <tr>\n",
       "      <th>4</th>\n",
       "      <td>7884.0</td>\n",
       "      <td>MOTOCICLETAS Y\\nMOTOCARROS</td>\n",
       "      <td>MOTOCICLETA</td>\n",
       "      <td>ACB</td>\n",
       "      <td>MONTANA 200 MT</td>\n",
       "      <td>200</td>\n",
       "      <td>0.0</td>\n",
       "      <td>0.0</td>\n",
       "      <td>370</td>\n",
       "      <td>380.0</td>\n",
       "      <td>380.0</td>\n",
       "      <td>380.0</td>\n",
       "      <td>380.0</td>\n",
       "      <td>380.0</td>\n",
       "      <td>380.0</td>\n",
       "      <td>380.0</td>\n",
       "      <td>380.0</td>\n",
       "      <td>480.0</td>\n",
       "      <td>480.0</td>\n",
       "      <td>480.0</td>\n",
       "      <td>480.0</td>\n",
       "      <td>577.0</td>\n",
       "      <td>670.0</td>\n",
       "      <td>760.0</td>\n",
       "      <td>860.0</td>\n",
       "      <td>860.0</td>\n",
       "      <td>957.0</td>\n",
       "      <td>957.0</td>\n",
       "      <td>1050.0</td>\n",
       "      <td>1150.0</td>\n",
       "      <td>1246.0</td>\n",
       "      <td>1310.0</td>\n",
       "      <td>1500.0</td>\n",
       "    </tr>\n",
       "  </tbody>\n",
       "</table>\n",
       "</div>"
      ],
      "text/plain": [
       "       ID                        TIPO        CLASE MARCA            LINEA  \\\n",
       "0     NaN                         NaN          NaN   NaN              NaN   \n",
       "1  7881.0  MOTOCICLETAS Y\\nMOTOCARROS  MOTOCICLETA   ACB       ACB 125 MT   \n",
       "2  7882.0  MOTOCICLETAS Y\\nMOTOCARROS  MOTOCICLETA   ACB  B-STRONG 110 MT   \n",
       "3  7883.0  MOTOCICLETAS Y\\nMOTOCARROS  MOTOCICLETA   ACB  FORTRESS 125 AT   \n",
       "4  7884.0  MOTOCICLETAS Y\\nMOTOCARROS  MOTOCICLETA   ACB   MONTANA 200 MT   \n",
       "\n",
       "  CILINDRAJE  TONELAJE  PASAJE  MODELOS  Unnamed: 9  Unnamed: 10  Unnamed: 11  \\\n",
       "0        NaN       NaN     NaN     1994      1995.0       1996.0       1997.0   \n",
       "1        125       0.0     0.0      370       380.0        380.0        380.0   \n",
       "2        107       0.0     0.0      370       380.0        380.0        380.0   \n",
       "3        125       0.0     0.0      370       380.0        380.0        380.0   \n",
       "4        200       0.0     0.0      370       380.0        380.0        380.0   \n",
       "\n",
       "   Unnamed: 12  Unnamed: 13  Unnamed: 14  Unnamed: 15  Unnamed: 16  \\\n",
       "0       1998.0       1999.0       2000.0       2001.0       2002.0   \n",
       "1        380.0        380.0        380.0        480.0        577.0   \n",
       "2        380.0        380.0        380.0        480.0        577.0   \n",
       "3        480.0        577.0        670.0        760.0        760.0   \n",
       "4        380.0        380.0        380.0        380.0        380.0   \n",
       "\n",
       "   Unnamed: 17  Unnamed: 18  Unnamed: 19  Unnamed: 20  Unnamed: 21  \\\n",
       "0       2003.0       2004.0       2005.0       2006.0       2007.0   \n",
       "1        670.0        760.0        860.0        860.0        860.0   \n",
       "2        670.0        760.0        830.0        875.0        916.0   \n",
       "3        760.0        860.0        957.0       1050.0       1150.0   \n",
       "4        480.0        480.0        480.0        480.0        577.0   \n",
       "\n",
       "   Unnamed: 22  Unnamed: 23  Unnamed: 24  Unnamed: 25  Unnamed: 26  \\\n",
       "0       2008.0       2009.0       2010.0       2011.0       2012.0   \n",
       "1        957.0       1050.0       1150.0       1246.0       1340.0   \n",
       "2        957.0       1010.0       1060.0       1080.0       1100.0   \n",
       "3       1246.0       1246.0       1440.0       1630.0       1720.0   \n",
       "4        670.0        760.0        860.0        860.0        957.0   \n",
       "\n",
       "   Unnamed: 27  Unnamed: 28  Unnamed: 29  Unnamed: 30  Unnamed: 31  \\\n",
       "0       2013.0       2014.0       2015.0       2016.0       2017.0   \n",
       "1       1440.0       1630.0       1720.0       1910.0       2010.0   \n",
       "2       1150.0       1246.0       1340.0       1440.0       1510.0   \n",
       "3       1910.0       2110.0       2200.0       2400.0       2520.0   \n",
       "4        957.0       1050.0       1150.0       1246.0       1310.0   \n",
       "\n",
       "   Unnamed: 32  \n",
       "0       2018.0  \n",
       "1       2100.0  \n",
       "2       1800.0  \n",
       "3       3000.0  \n",
       "4       1500.0  "
      ]
     },
     "execution_count": 8,
     "metadata": {},
     "output_type": "execute_result"
    }
   ],
   "source": [
    "motocicletas.head()"
   ]
  },
  {
   "cell_type": "markdown",
   "metadata": {},
   "source": [
    "# Analisis Vehiculos"
   ]
  },
  {
   "cell_type": "code",
   "execution_count": 9,
   "metadata": {},
   "outputs": [],
   "source": [
    "vehiculos = vehiculos[vehiculos.ID.notnull()]\n",
    "vehiculos = vehiculos[['CLASE','MARCA', 'LINEA']]\n"
   ]
  },
  {
   "cell_type": "code",
   "execution_count": 10,
   "metadata": {},
   "outputs": [
    {
     "data": {
      "text/html": [
       "<div>\n",
       "<style scoped>\n",
       "    .dataframe tbody tr th:only-of-type {\n",
       "        vertical-align: middle;\n",
       "    }\n",
       "\n",
       "    .dataframe tbody tr th {\n",
       "        vertical-align: top;\n",
       "    }\n",
       "\n",
       "    .dataframe thead th {\n",
       "        text-align: right;\n",
       "    }\n",
       "</style>\n",
       "<table border=\"1\" class=\"dataframe\">\n",
       "  <thead>\n",
       "    <tr style=\"text-align: right;\">\n",
       "      <th></th>\n",
       "      <th>CLASE</th>\n",
       "      <th>MARCA</th>\n",
       "      <th>LINEA</th>\n",
       "    </tr>\n",
       "  </thead>\n",
       "  <tbody>\n",
       "    <tr>\n",
       "      <th>1</th>\n",
       "      <td>AUTOMOVIL</td>\n",
       "      <td>ACCURA</td>\n",
       "      <td>ACURA</td>\n",
       "    </tr>\n",
       "    <tr>\n",
       "      <th>2</th>\n",
       "      <td>AUTOMOVIL</td>\n",
       "      <td>ACURA</td>\n",
       "      <td>INTEGRA (LINEA BASE ESTANDAR)</td>\n",
       "    </tr>\n",
       "    <tr>\n",
       "      <th>3</th>\n",
       "      <td>AUTOMOVIL</td>\n",
       "      <td>ACURA</td>\n",
       "      <td>INTEGRA 1.8 2P MT</td>\n",
       "    </tr>\n",
       "    <tr>\n",
       "      <th>4</th>\n",
       "      <td>AUTOMOVIL</td>\n",
       "      <td>ACURA</td>\n",
       "      <td>INTEGRA 1.8 VTEC 4P MT</td>\n",
       "    </tr>\n",
       "    <tr>\n",
       "      <th>5</th>\n",
       "      <td>AUTOMOVIL</td>\n",
       "      <td>ACURA</td>\n",
       "      <td>LEGEND KA766P-L</td>\n",
       "    </tr>\n",
       "  </tbody>\n",
       "</table>\n",
       "</div>"
      ],
      "text/plain": [
       "       CLASE   MARCA                          LINEA\n",
       "1  AUTOMOVIL  ACCURA                          ACURA\n",
       "2  AUTOMOVIL   ACURA  INTEGRA (LINEA BASE ESTANDAR)\n",
       "3  AUTOMOVIL   ACURA              INTEGRA 1.8 2P MT\n",
       "4  AUTOMOVIL   ACURA         INTEGRA 1.8 VTEC 4P MT\n",
       "5  AUTOMOVIL   ACURA                LEGEND KA766P-L"
      ]
     },
     "execution_count": 10,
     "metadata": {},
     "output_type": "execute_result"
    }
   ],
   "source": [
    "vehiculos.head()"
   ]
  },
  {
   "cell_type": "code",
   "execution_count": 11,
   "metadata": {},
   "outputs": [
    {
     "data": {
      "text/plain": [
       "AUTOMOVIL             4450\n",
       "AUTOMOVIL -\\nBUGGY       1\n",
       "Name: CLASE, dtype: int64"
      ]
     },
     "execution_count": 11,
     "metadata": {},
     "output_type": "execute_result"
    }
   ],
   "source": [
    "vehiculos.CLASE.value_counts()"
   ]
  },
  {
   "cell_type": "code",
   "execution_count": 12,
   "metadata": {},
   "outputs": [],
   "source": [
    "vehiculos = vehiculos[vehiculos.CLASE != \"AUTOMOVIL -\\nBUGGY\"]"
   ]
  },
  {
   "cell_type": "code",
   "execution_count": 13,
   "metadata": {},
   "outputs": [
    {
     "data": {
      "text/plain": [
       "AUTOMOVIL    4450\n",
       "Name: CLASE, dtype: int64"
      ]
     },
     "execution_count": 13,
     "metadata": {},
     "output_type": "execute_result"
    }
   ],
   "source": [
    "vehiculos.CLASE.value_counts()"
   ]
  },
  {
   "cell_type": "code",
   "execution_count": 14,
   "metadata": {},
   "outputs": [],
   "source": [
    "motocicletas = motocicletas[motocicletas.ID.notnull()]\n",
    "motocicletas = motocicletas[['CLASE','MARCA', 'LINEA']]"
   ]
  },
  {
   "cell_type": "code",
   "execution_count": 15,
   "metadata": {},
   "outputs": [
    {
     "data": {
      "text/html": [
       "<div>\n",
       "<style scoped>\n",
       "    .dataframe tbody tr th:only-of-type {\n",
       "        vertical-align: middle;\n",
       "    }\n",
       "\n",
       "    .dataframe tbody tr th {\n",
       "        vertical-align: top;\n",
       "    }\n",
       "\n",
       "    .dataframe thead th {\n",
       "        text-align: right;\n",
       "    }\n",
       "</style>\n",
       "<table border=\"1\" class=\"dataframe\">\n",
       "  <thead>\n",
       "    <tr style=\"text-align: right;\">\n",
       "      <th></th>\n",
       "      <th>CLASE</th>\n",
       "      <th>MARCA</th>\n",
       "      <th>LINEA</th>\n",
       "    </tr>\n",
       "  </thead>\n",
       "  <tbody>\n",
       "    <tr>\n",
       "      <th>1</th>\n",
       "      <td>MOTOCICLETA</td>\n",
       "      <td>ACB</td>\n",
       "      <td>ACB 125 MT</td>\n",
       "    </tr>\n",
       "    <tr>\n",
       "      <th>2</th>\n",
       "      <td>MOTOCICLETA</td>\n",
       "      <td>ACB</td>\n",
       "      <td>B-STRONG 110 MT</td>\n",
       "    </tr>\n",
       "    <tr>\n",
       "      <th>3</th>\n",
       "      <td>MOTOCICLETA</td>\n",
       "      <td>ACB</td>\n",
       "      <td>FORTRESS 125 AT</td>\n",
       "    </tr>\n",
       "    <tr>\n",
       "      <th>4</th>\n",
       "      <td>MOTOCICLETA</td>\n",
       "      <td>ACB</td>\n",
       "      <td>MONTANA 200 MT</td>\n",
       "    </tr>\n",
       "    <tr>\n",
       "      <th>5</th>\n",
       "      <td>MOTOCICLETA</td>\n",
       "      <td>ACB</td>\n",
       "      <td>TORNADO 200 MT</td>\n",
       "    </tr>\n",
       "  </tbody>\n",
       "</table>\n",
       "</div>"
      ],
      "text/plain": [
       "         CLASE MARCA            LINEA\n",
       "1  MOTOCICLETA   ACB       ACB 125 MT\n",
       "2  MOTOCICLETA   ACB  B-STRONG 110 MT\n",
       "3  MOTOCICLETA   ACB  FORTRESS 125 AT\n",
       "4  MOTOCICLETA   ACB   MONTANA 200 MT\n",
       "5  MOTOCICLETA   ACB   TORNADO 200 MT"
      ]
     },
     "execution_count": 15,
     "metadata": {},
     "output_type": "execute_result"
    }
   ],
   "source": [
    "motocicletas.head()"
   ]
  },
  {
   "cell_type": "markdown",
   "metadata": {},
   "source": [
    "# Concatenas tablas"
   ]
  },
  {
   "cell_type": "code",
   "execution_count": 16,
   "metadata": {},
   "outputs": [],
   "source": [
    "vehiculos = vehiculos.append(motocicletas)\n",
    "vehiculospruebas = vehiculos.append(motocicletas)"
   ]
  },
  {
   "cell_type": "markdown",
   "metadata": {},
   "source": [
    "### reparando strings con caracter \\n"
   ]
  },
  {
   "cell_type": "code",
   "execution_count": 53,
   "metadata": {},
   "outputs": [],
   "source": [
    "caracterR = '\\n'\n",
    "toreplace = ' '\n",
    "#caracter = 'Motocicleta'\n",
    "prueba = 'Hola\\nmundo'"
   ]
  },
  {
   "cell_type": "code",
   "execution_count": 54,
   "metadata": {},
   "outputs": [
    {
     "data": {
      "text/plain": [
       "'Hola mundo'"
      ]
     },
     "execution_count": 54,
     "metadata": {},
     "output_type": "execute_result"
    }
   ],
   "source": [
    "prueba.replace(caracter,toreplace)"
   ]
  },
  {
   "cell_type": "code",
   "execution_count": 55,
   "metadata": {},
   "outputs": [],
   "source": [
    "#funcion para eliminar todos los \\n\n",
    "def reparar(row,caracter = caracterR ,change = toreplace):\n",
    "    row.CLASE = row.CLASE.replace(caracter,change)\n",
    "    row.MARCA = row.MARCA.replace(caracter,change)\n",
    "    row.LINEA = row.LINEA.replace(caracter,change)\n",
    "    return row"
   ]
  },
  {
   "cell_type": "code",
   "execution_count": 56,
   "metadata": {},
   "outputs": [],
   "source": [
    "vehiculos = vehiculos.apply(reparar,axis = 1)"
   ]
  },
  {
   "cell_type": "code",
   "execution_count": 57,
   "metadata": {},
   "outputs": [
    {
     "data": {
      "text/plain": [
       "(7085, 3)"
      ]
     },
     "execution_count": 57,
     "metadata": {},
     "output_type": "execute_result"
    }
   ],
   "source": [
    "vehiculos.shape"
   ]
  },
  {
   "cell_type": "code",
   "execution_count": 58,
   "metadata": {},
   "outputs": [
    {
     "data": {
      "text/html": [
       "<div>\n",
       "<style scoped>\n",
       "    .dataframe tbody tr th:only-of-type {\n",
       "        vertical-align: middle;\n",
       "    }\n",
       "\n",
       "    .dataframe tbody tr th {\n",
       "        vertical-align: top;\n",
       "    }\n",
       "\n",
       "    .dataframe thead th {\n",
       "        text-align: right;\n",
       "    }\n",
       "</style>\n",
       "<table border=\"1\" class=\"dataframe\">\n",
       "  <thead>\n",
       "    <tr style=\"text-align: right;\">\n",
       "      <th></th>\n",
       "      <th>CLASE</th>\n",
       "      <th>MARCA</th>\n",
       "      <th>LINEA</th>\n",
       "    </tr>\n",
       "  </thead>\n",
       "  <tbody>\n",
       "    <tr>\n",
       "      <th>1</th>\n",
       "      <td>AUTOMOVIL</td>\n",
       "      <td>ACCURA</td>\n",
       "      <td>ACURA</td>\n",
       "    </tr>\n",
       "    <tr>\n",
       "      <th>2</th>\n",
       "      <td>AUTOMOVIL</td>\n",
       "      <td>ACURA</td>\n",
       "      <td>INTEGRA (LINEA BASE ESTANDAR)</td>\n",
       "    </tr>\n",
       "    <tr>\n",
       "      <th>3</th>\n",
       "      <td>AUTOMOVIL</td>\n",
       "      <td>ACURA</td>\n",
       "      <td>INTEGRA 1.8 2P MT</td>\n",
       "    </tr>\n",
       "    <tr>\n",
       "      <th>4</th>\n",
       "      <td>AUTOMOVIL</td>\n",
       "      <td>ACURA</td>\n",
       "      <td>INTEGRA 1.8 VTEC 4P MT</td>\n",
       "    </tr>\n",
       "    <tr>\n",
       "      <th>5</th>\n",
       "      <td>AUTOMOVIL</td>\n",
       "      <td>ACURA</td>\n",
       "      <td>LEGEND KA766P-L</td>\n",
       "    </tr>\n",
       "  </tbody>\n",
       "</table>\n",
       "</div>"
      ],
      "text/plain": [
       "       CLASE   MARCA                          LINEA\n",
       "1  AUTOMOVIL  ACCURA                          ACURA\n",
       "2  AUTOMOVIL   ACURA  INTEGRA (LINEA BASE ESTANDAR)\n",
       "3  AUTOMOVIL   ACURA              INTEGRA 1.8 2P MT\n",
       "4  AUTOMOVIL   ACURA         INTEGRA 1.8 VTEC 4P MT\n",
       "5  AUTOMOVIL   ACURA                LEGEND KA766P-L"
      ]
     },
     "execution_count": 58,
     "metadata": {},
     "output_type": "execute_result"
    }
   ],
   "source": [
    "vehiculos.head()"
   ]
  },
  {
   "cell_type": "code",
   "execution_count": 59,
   "metadata": {},
   "outputs": [
    {
     "data": {
      "text/html": [
       "<div>\n",
       "<style scoped>\n",
       "    .dataframe tbody tr th:only-of-type {\n",
       "        vertical-align: middle;\n",
       "    }\n",
       "\n",
       "    .dataframe tbody tr th {\n",
       "        vertical-align: top;\n",
       "    }\n",
       "\n",
       "    .dataframe thead th {\n",
       "        text-align: right;\n",
       "    }\n",
       "</style>\n",
       "<table border=\"1\" class=\"dataframe\">\n",
       "  <thead>\n",
       "    <tr style=\"text-align: right;\">\n",
       "      <th></th>\n",
       "      <th>CLASE</th>\n",
       "      <th>MARCA</th>\n",
       "      <th>LINEA</th>\n",
       "    </tr>\n",
       "  </thead>\n",
       "  <tbody>\n",
       "    <tr>\n",
       "      <th>2</th>\n",
       "      <td>AUTOMOVIL</td>\n",
       "      <td>ACURA</td>\n",
       "      <td>INTEGRA (LINEA BASE ESTANDAR)</td>\n",
       "    </tr>\n",
       "    <tr>\n",
       "      <th>3</th>\n",
       "      <td>AUTOMOVIL</td>\n",
       "      <td>ACURA</td>\n",
       "      <td>INTEGRA 1.8 2P MT</td>\n",
       "    </tr>\n",
       "    <tr>\n",
       "      <th>4</th>\n",
       "      <td>AUTOMOVIL</td>\n",
       "      <td>ACURA</td>\n",
       "      <td>INTEGRA 1.8 VTEC 4P MT</td>\n",
       "    </tr>\n",
       "    <tr>\n",
       "      <th>5</th>\n",
       "      <td>AUTOMOVIL</td>\n",
       "      <td>ACURA</td>\n",
       "      <td>LEGEND KA766P-L</td>\n",
       "    </tr>\n",
       "    <tr>\n",
       "      <th>6</th>\n",
       "      <td>AUTOMOVIL</td>\n",
       "      <td>ACURA</td>\n",
       "      <td>LINEAS y CILINDRAJE NO INCLUIDAS DE ESTA MARCA...</td>\n",
       "    </tr>\n",
       "    <tr>\n",
       "      <th>7</th>\n",
       "      <td>AUTOMOVIL</td>\n",
       "      <td>ACURA</td>\n",
       "      <td>TL 2.5L AT</td>\n",
       "    </tr>\n",
       "    <tr>\n",
       "      <th>8</th>\n",
       "      <td>AUTOMOVIL</td>\n",
       "      <td>ACURA</td>\n",
       "      <td>TL 3.2L AT</td>\n",
       "    </tr>\n",
       "    <tr>\n",
       "      <th>9</th>\n",
       "      <td>AUTOMOVIL</td>\n",
       "      <td>ACURA</td>\n",
       "      <td>TSX 2.4 L AT</td>\n",
       "    </tr>\n",
       "  </tbody>\n",
       "</table>\n",
       "</div>"
      ],
      "text/plain": [
       "       CLASE  MARCA                                              LINEA\n",
       "2  AUTOMOVIL  ACURA                      INTEGRA (LINEA BASE ESTANDAR)\n",
       "3  AUTOMOVIL  ACURA                                  INTEGRA 1.8 2P MT\n",
       "4  AUTOMOVIL  ACURA                             INTEGRA 1.8 VTEC 4P MT\n",
       "5  AUTOMOVIL  ACURA                                    LEGEND KA766P-L\n",
       "6  AUTOMOVIL  ACURA  LINEAS y CILINDRAJE NO INCLUIDAS DE ESTA MARCA...\n",
       "7  AUTOMOVIL  ACURA                                         TL 2.5L AT\n",
       "8  AUTOMOVIL  ACURA                                         TL 3.2L AT\n",
       "9  AUTOMOVIL  ACURA                                       TSX 2.4 L AT"
      ]
     },
     "execution_count": 59,
     "metadata": {},
     "output_type": "execute_result"
    }
   ],
   "source": [
    "vehiculos[vehiculos.MARCA == 'ACURA']"
   ]
  },
  {
   "cell_type": "code",
   "execution_count": null,
   "metadata": {},
   "outputs": [],
   "source": []
  },
  {
   "cell_type": "code",
   "execution_count": 60,
   "metadata": {},
   "outputs": [
    {
     "data": {
      "text/plain": [
       "AUTOMOVIL                4450\n",
       "MOTOCICLETA              2011\n",
       "CUATRIMOTO                326\n",
       "MOTOCARRO                 241\n",
       "MOTOCICLETA ELECTRICA      38\n",
       "MOTOCARRO ELECTRICO        17\n",
       "MOTOTRICICLO                2\n",
       "Name: CLASE, dtype: int64"
      ]
     },
     "execution_count": 60,
     "metadata": {},
     "output_type": "execute_result"
    }
   ],
   "source": [
    "vehiculos.CLASE.value_counts()"
   ]
  },
  {
   "cell_type": "code",
   "execution_count": 61,
   "metadata": {},
   "outputs": [
    {
     "data": {
      "text/plain": [
       "BMW                489\n",
       "MERCEDES BENZ      336\n",
       "HONDA              322\n",
       "VOLKSWAGEN         255\n",
       "RENAULT            251\n",
       "CHEVROLET          232\n",
       "YAMAHA             229\n",
       "MAZDA              208\n",
       "PEUGEOT            204\n",
       "HYUNDAI            201\n",
       "AUDI               192\n",
       "SUZUKI             172\n",
       "KIA                152\n",
       "NISSAN             150\n",
       "VOLVO              140\n",
       "KAWASAKI           133\n",
       "CITROEN            123\n",
       "HARLEY DAVIDSON    121\n",
       "AUTECO             113\n",
       "BRP CAN AM         113\n",
       "FIAT               113\n",
       "TOYOTA             110\n",
       "FORD               108\n",
       "SKODA              100\n",
       "AKT                 97\n",
       "SEAT                88\n",
       "SUBARU              74\n",
       "KTM                 73\n",
       "DUCATI              72\n",
       "PORSCHE             70\n",
       "                  ... \n",
       "FEIZHEN              1\n",
       "AUTECO BAJAJ         1\n",
       "SLNG                 1\n",
       "ZHONGHUA             1\n",
       "YITAKI               1\n",
       "BENSOON              1\n",
       "THUNDER CYCLE        1\n",
       "AUSTIN               1\n",
       "HUNTER               1\n",
       "LINHAI               1\n",
       "TEMPEST              1\n",
       "NASH                 1\n",
       "JIANGSU              1\n",
       "SM                   1\n",
       "GOGGOMOBIL           1\n",
       "AUTOKRAFT            1\n",
       "HILLMAN              1\n",
       "YAMATI               1\n",
       "WESTFIELD            1\n",
       "PANTERA              1\n",
       "ZHONGNENG            1\n",
       "ZHENGLI              1\n",
       "ACM ANGEL´S          1\n",
       "LAND ROVER           1\n",
       "DKW                  1\n",
       "CHOPPER NATION       1\n",
       "WANHU                1\n",
       "HAOMEN               1\n",
       "INTERNATIONAL        1\n",
       "ARIEL                1\n",
       "Name: MARCA, Length: 416, dtype: int64"
      ]
     },
     "execution_count": 61,
     "metadata": {},
     "output_type": "execute_result"
    }
   ],
   "source": [
    "vehiculos.MARCA.value_counts()"
   ]
  },
  {
   "cell_type": "code",
   "execution_count": 62,
   "metadata": {},
   "outputs": [
    {
     "name": "stdout",
     "output_type": "stream",
     "text": [
      "Clase:  0\n",
      "Marca:  0\n",
      "Linea:  0\n"
     ]
    }
   ],
   "source": [
    "print(\"Clase: \",vehiculos.CLASE.isnull().sum())\n",
    "print(\"Marca: \",vehiculos.MARCA.isnull().sum())\n",
    "print(\"Linea: \",vehiculos.LINEA.isnull().sum())"
   ]
  },
  {
   "cell_type": "code",
   "execution_count": 63,
   "metadata": {},
   "outputs": [
    {
     "name": "stdout",
     "output_type": "stream",
     "text": [
      "['USW MOTORS', 'AG', 'SHINERAY', 'SUKIDA', 'FULU', 'PEUGEOT', 'ZIMMER', 'BRONTO', 'LIANGZI', 'MOEPED', 'EMOTIRE', 'SP@ZZIO', 'LOTUS - LML', 'MGU', 'KINROAD', 'BOMBARDER', 'ZIP STAR', 'AMPLE', 'BORGO', 'ZONGSHEN', 'BUELL', 'AUTECO', 'KAZUMA', 'PANZER', 'CMC', 'GMC', 'MD BIKES', 'POLONEZ', 'VAUXHALL', 'ZASTAVA', 'BECK', 'LANCIA', 'CONT. MARK', 'SUZUKI', 'TATA', 'BRP CAN AM', 'DUKAR', 'BEIJING', 'MCLAREN', 'LMX', 'GOES', 'KEEWAY', 'YAMAHA', 'MOTO ABC', 'BUYANG', 'MAX MOTOR', 'MG', 'EAGLE CARGO', 'QINGQI', 'BSA', 'APRIL', 'CUSTOM CHROME', 'XINYANG', 'EKA MOTORS', 'ROVER', 'M.G.U', 'YCF', 'YAKIMA', 'BENELLI', 'SKODA', 'DERBI', 'BENTLEY', 'CATERHAM', 'OLTCIT', 'KART', 'BRONCO', 'SMC', 'TEAN RYDER', 'CHINSU', 'CHECKER', 'YGM', 'OPEL', 'TOYOTA', 'KTM', 'EAGLE', 'GAS GAS', 'YAKEY', 'TELDIUX', 'SCOUTY', 'AMC', 'ACCURO', 'HAMMERHEAD', 'VOLGA', 'LIZHONG', 'HYUNDAI', 'LONCIN', 'KAYAK', 'ZUMY', 'SEAT', 'XIANFENG', 'HONDA', 'MITSUBISHI', 'TITANIA', 'ZERO', 'PORSCHE', 'NATSUKI', 'SINGER', 'AMW', 'BOSS ATV', 'LAMBRETA', 'CFMOTO', 'GBMCO', 'FEIZHEN', 'VOLVO', 'AUTECO BAJAJ', 'HILLMAN', 'VESPA', 'INTERNATIONAL', 'GEELY', 'MASERATI', 'MV AGUSTA', 'SMART', 'AKT', 'CHOPPER NATION', 'DINLI', 'DKW', 'STUDEBAKER', 'UNITED MOTORS', 'JONWAY', 'TOURING', 'LAND ROVER', 'SUNBEAM', 'RENAULT', 'ZHONGNENG', 'PLYMOUTH', 'AUTOKRAFT', 'NISSAN', 'GOGGOMOBIL', 'CONCORDE', 'BRITISH', 'CITROEN', 'BAJAJ', 'JIANGSU', 'NIKITA', 'FIRENZE', 'VICTORY', 'HAOJIANG', 'MOTO GUZZI', 'CATFLYER', 'NASH', 'ALFA ROMEO', 'GOMOTOR', 'PIAGGIO', 'JOYNER', 'KONCEO', 'GILERA', 'BENSOON', 'GEO', 'JAC', 'WEST', 'CHANGHE', 'TAO TAO', 'ZNEN', 'JET UKM', 'PONTIAC', 'ARCTIC CAT', 'BETA', 'HUSABERG', 'JIN JIAN', 'SATURN', 'HALEI', 'VAISAND', 'ON THE ROAD AGAIN', 'DUST', 'SANDI', 'EUROPAMOTOS', 'ILLUSION', 'LAMBORGHINI', 'HUALIN', 'ELEPHANT POWER', 'LINHAI', 'TRIUMPH', 'JINCHENG', 'JINLING', 'CARIBE', 'TARANTULA', 'HTA', 'BASHAN', 'WCR', 'SKYGO', 'APRILIA', 'DAIHATSU', 'POLARIS RANGER', 'ESSEX', 'TYCO', 'LOTUS', 'ZHEJIANG', 'DACIA', 'ROYAL ENFIELD', 'LANDWIND', 'HYOSUNG', 'KAISER', 'GREAT WALL MOTOR', 'RAMBLER', 'HARLEY DAVIDSON', 'WARTBURG', 'OLDSMOBILE', 'TIANDA', 'ZID', 'SUKYAMA', 'SCION', 'NITRO', 'SANLG', 'HUANSONG', 'DESOTO', 'MIKILON', 'JINGLONG', 'LEXUS', 'CHANA', 'BIMOTA', 'RLX', 'MOTOKART', 'WARZAWA', 'ZILI MOTORS', 'DATSUN', 'POLARIS', 'SCOOTER', 'IZHMASH', 'VERUCCI', 'FUXIN', 'U.S.W.MOTORS', 'HAFEI', 'MINI', 'ARIEL', 'TVS', 'HERO', 'TALON', 'JIANGNAN GLOW', 'SUBARU', 'FENGCHI', 'LINGYUN', 'MORGAN', 'LML', 'VECTRIX', 'FERRARI', 'IOTA', 'SUPERFORMANCE', 'LADA', 'ACB', 'YUGO', 'APRIL EV', 'UNISON', 'HUMMER', 'SACHS', 'FORD', 'KAZUKI', 'MESSERSCHMITT', 'HISUN', 'VOLKSWAGEN', 'FAW', 'COLMOVE', 'AVA', 'FIAT', 'NORTON', 'YAMASAKY', 'RIDER', 'SANYA', 'MONTEZA', 'RIEJU', 'ISO', 'XINLING', 'CHEVROLET', 'ACE MOTOR', 'DS', 'LIANMEI MOTOR', 'SIGMA', 'KHOOBRA', 'CHERY', 'TAVRIA', 'KANCHAO', 'LINTEX', 'TIXXON', 'AUTO UNION', 'ACCURA', 'ACURA', 'PIONEER', 'JAGUAR', 'DAYANG', 'BORGWARD', 'BUGGY', 'ATV', 'AMM', 'ATV RACING', 'MAGIRUS DEUTZ', 'MERCURY', 'HILTRAYKER', 'BMW', 'POLARIS ATV', 'JIALING', 'JMSTAR', 'COBRA', 'FRIBEST', 'PASSAGGIO', 'SACHS BIKES', 'ECOBICIS', 'MERCEDES BENZ', 'ATV RATO', 'GREAT WALL', 'ENERGY MOTION', 'TONGKO', 'SKOOT MOTORCYCLES', 'TRIWIL', 'MAZDA', 'YADEA', 'JINLUN', 'JAWA', 'HISUN TIGER', 'SSANGYONG', 'SIMCA', 'CARTER BROTHERS', 'AUTO BIANCHI', 'CHANGAN', 'HUDSON', 'DUCATI', 'LINCOLN', 'MORRIS', 'GUZI', 'GSMOON', 'ROKETA', 'KINLON', 'ISUZU', 'TEMPEST', 'BAIC', 'WANHU', 'BOMBARDIER', 'THUNDER CYCLE', 'AYCO', 'DONGBEN', 'URAL', 'ACM ANGEL´S', 'CARTER', 'ZHENGLI', 'JINFENG', 'BOURGET', 'PANTERA', 'WESTFIELD', 'YAMATI', 'SLNG', 'SM', 'CADILLAC', 'LUCKY LION', 'HUNTER', 'UNICO', 'AUSTIN', 'KAWASAKI', 'WANXIN', 'ZHONGHUA', 'WILLYGER', 'UM', 'KIAMASTER', 'ROA', 'BUICK', 'OAKLAND', 'JIANSHE', 'HONLEI', 'YITAKI', 'BRILLIANCE', 'SENKE', 'VENTO', 'XILING', 'KYOTO', 'HUSQVARNA', 'GLOW', 'DODGE', 'CHAMPION PERFOMANCE', 'INDIAN', 'HENRY J', 'CHRYSLER', 'F.S.O.', 'LA SALLE', 'KIA', 'N.S.U', 'AUPACO', 'AVANTI', 'ASTON MARTIN', 'XINGYUE', 'KAXAMOTOS', 'HONGXING', 'STUDEBACKER', 'PACKARD', 'LIFAN', 'TX MOTORS', 'BAER BAGULET', 'BERRECO', 'AUDI', 'JIANG CHANGE', 'FASTER', 'ALEKO', 'ATM', 'MURAVEY', 'MORINI', 'SUPERMOTO', 'SYM', 'CAGIVA', 'UKM', 'DAEWOO', 'JEZHANG', 'MTK', 'BYD', 'TMEC', 'MGB', 'ROLLS ROYCE', 'YINGANG', 'APRILEV', 'HAIMA', 'NECKAR', 'SHENKE', 'UAZ', 'MZ', 'ZQ MOTORS', 'GAZ', 'ZANELLA', 'KYMCO', 'SAAB', 'HAOMEN', 'HARLEY DAVIDFSON']\n"
     ]
    }
   ],
   "source": [
    "marcasvehiculos = set(vehiculos.MARCA.get_values())\n",
    "marcasvehiculos = list(marcasvehiculos)\n",
    "print(marcasvehiculos)"
   ]
  },
  {
   "cell_type": "code",
   "execution_count": 64,
   "metadata": {},
   "outputs": [
    {
     "data": {
      "text/html": [
       "<div>\n",
       "<style scoped>\n",
       "    .dataframe tbody tr th:only-of-type {\n",
       "        vertical-align: middle;\n",
       "    }\n",
       "\n",
       "    .dataframe tbody tr th {\n",
       "        vertical-align: top;\n",
       "    }\n",
       "\n",
       "    .dataframe thead th {\n",
       "        text-align: right;\n",
       "    }\n",
       "</style>\n",
       "<table border=\"1\" class=\"dataframe\">\n",
       "  <thead>\n",
       "    <tr style=\"text-align: right;\">\n",
       "      <th></th>\n",
       "      <th>CLASE</th>\n",
       "      <th>MARCA</th>\n",
       "      <th>LINEA</th>\n",
       "    </tr>\n",
       "  </thead>\n",
       "  <tbody>\n",
       "  </tbody>\n",
       "</table>\n",
       "</div>"
      ],
      "text/plain": [
       "Empty DataFrame\n",
       "Columns: [CLASE, MARCA, LINEA]\n",
       "Index: []"
      ]
     },
     "execution_count": 64,
     "metadata": {},
     "output_type": "execute_result"
    }
   ],
   "source": [
    "vehiculos[vehiculos.CLASE == 'Motocicleta']"
   ]
  },
  {
   "cell_type": "code",
   "execution_count": 65,
   "metadata": {},
   "outputs": [],
   "source": [
    "vehiculos.CLASE.unique()\n",
    "tipos= vehiculos.CLASE.unique()"
   ]
  },
  {
   "cell_type": "code",
   "execution_count": 66,
   "metadata": {},
   "outputs": [],
   "source": [
    "numvehiculos = len(vehiculos.CLASE.unique())"
   ]
  },
  {
   "cell_type": "code",
   "execution_count": 67,
   "metadata": {},
   "outputs": [],
   "source": [
    "clasesVehiculos =  pd.DataFrame([(i,tipos[i]) for i in range(numvehiculos)], columns=('id','nombreClase'))"
   ]
  },
  {
   "cell_type": "code",
   "execution_count": 68,
   "metadata": {},
   "outputs": [],
   "source": [
    "clases = clasesVehiculos"
   ]
  },
  {
   "cell_type": "code",
   "execution_count": 69,
   "metadata": {},
   "outputs": [
    {
     "data": {
      "text/plain": [
       "Series([], Name: id, dtype: int64)"
      ]
     },
     "execution_count": 69,
     "metadata": {},
     "output_type": "execute_result"
    }
   ],
   "source": [
    "clasesVehiculos[clasesVehiculos.nombreClase == \"MOTOCARRO\\nELECTRICO\"][\"id\"]"
   ]
  },
  {
   "cell_type": "code",
   "execution_count": 70,
   "metadata": {},
   "outputs": [],
   "source": [
    "def getIDvehicle(nombreVehiculo):\n",
    "    \"\"\"Recibe string\"\"\"\n",
    "    return int(clasesVehiculos[clasesVehiculos.nombreClase == nombreVehiculo][\"id\"])\n",
    "    "
   ]
  },
  {
   "cell_type": "code",
   "execution_count": 71,
   "metadata": {},
   "outputs": [
    {
     "name": "stdout",
     "output_type": "stream",
     "text": [
      "0\n"
     ]
    }
   ],
   "source": [
    "print(getIDvehicle(\"AUTOMOVIL\"))"
   ]
  },
  {
   "cell_type": "code",
   "execution_count": 72,
   "metadata": {},
   "outputs": [],
   "source": [
    "MarcaVehiculos = vehiculos[[\"CLASE\",\"MARCA\"]]"
   ]
  },
  {
   "cell_type": "code",
   "execution_count": 73,
   "metadata": {},
   "outputs": [],
   "source": [
    "agrupacionvehiculos= vehiculos.groupby(['CLASE','MARCA'])"
   ]
  },
  {
   "cell_type": "code",
   "execution_count": 74,
   "metadata": {},
   "outputs": [],
   "source": [
    "def makeTableMarca():\n",
    "    k = 0\n",
    "    lista =[]\n",
    "    for i,j in agrupacionvehiculos.indices:\n",
    "        lista.append((k,getIDvehicle(i),j))\n",
    "        \n",
    "        k += 1\n",
    "    return pd.DataFrame(lista, columns=('id','idClase','nombreMarca'))\n",
    "    "
   ]
  },
  {
   "cell_type": "markdown",
   "metadata": {},
   "source": [
    "## se crea segunda tabla"
   ]
  },
  {
   "cell_type": "code",
   "execution_count": 75,
   "metadata": {},
   "outputs": [],
   "source": [
    "VehiculosMarca = makeTableMarca()"
   ]
  },
  {
   "cell_type": "code",
   "execution_count": 76,
   "metadata": {},
   "outputs": [],
   "source": [
    "def getIDMarca(nombreMarca, idclase):\n",
    "    tmp = VehiculosMarca[VehiculosMarca.nombreMarca == nombreMarca ][[\"id\",'idClase']]\n",
    "    return int(tmp[tmp.idClase == idclase]['id'])"
   ]
  },
  {
   "cell_type": "code",
   "execution_count": 77,
   "metadata": {},
   "outputs": [
    {
     "data": {
      "text/plain": [
       "153"
      ]
     },
     "execution_count": 77,
     "metadata": {},
     "output_type": "execute_result"
    }
   ],
   "source": [
    "getIDMarca('AKT',4)"
   ]
  },
  {
   "cell_type": "code",
   "execution_count": 78,
   "metadata": {},
   "outputs": [
    {
     "data": {
      "text/plain": [
       "7085"
      ]
     },
     "execution_count": 78,
     "metadata": {},
     "output_type": "execute_result"
    }
   ],
   "source": [
    "vehiculos.shape[0]"
   ]
  },
  {
   "cell_type": "code",
   "execution_count": 79,
   "metadata": {},
   "outputs": [],
   "source": [
    "def quelohagatodo():\n",
    "    lista = []\n",
    "    k= 0\n",
    "    for i in range(vehiculos.shape[0]):\n",
    "        marca = vehiculos.iloc[i].MARCA\n",
    "        nombre = vehiculos.iloc[i].LINEA\n",
    "        clase = vehiculos.iloc[i].CLASE\n",
    "        idv = getIDvehicle(clase)\n",
    "        idm = getIDMarca(marca,idv)\n",
    "        lista.append((k,idv,idm,nombre))\n",
    "        k+=1\n",
    "        \n",
    "    return pd.DataFrame(lista, columns=('id','idClase','idMarca','nombreMarca'))\n",
    "        \n",
    "        \n",
    "        "
   ]
  },
  {
   "cell_type": "code",
   "execution_count": 80,
   "metadata": {},
   "outputs": [],
   "source": [
    "VehiculosLinea = quelohagatodo()"
   ]
  },
  {
   "cell_type": "code",
   "execution_count": 81,
   "metadata": {},
   "outputs": [
    {
     "data": {
      "text/html": [
       "<div>\n",
       "<style scoped>\n",
       "    .dataframe tbody tr th:only-of-type {\n",
       "        vertical-align: middle;\n",
       "    }\n",
       "\n",
       "    .dataframe tbody tr th {\n",
       "        vertical-align: top;\n",
       "    }\n",
       "\n",
       "    .dataframe thead th {\n",
       "        text-align: right;\n",
       "    }\n",
       "</style>\n",
       "<table border=\"1\" class=\"dataframe\">\n",
       "  <thead>\n",
       "    <tr style=\"text-align: right;\">\n",
       "      <th></th>\n",
       "      <th>id</th>\n",
       "      <th>idClase</th>\n",
       "      <th>idMarca</th>\n",
       "      <th>nombreMarca</th>\n",
       "    </tr>\n",
       "  </thead>\n",
       "  <tbody>\n",
       "    <tr>\n",
       "      <th>0</th>\n",
       "      <td>0</td>\n",
       "      <td>0</td>\n",
       "      <td>0</td>\n",
       "      <td>ACURA</td>\n",
       "    </tr>\n",
       "    <tr>\n",
       "      <th>1</th>\n",
       "      <td>1</td>\n",
       "      <td>0</td>\n",
       "      <td>1</td>\n",
       "      <td>INTEGRA (LINEA BASE ESTANDAR)</td>\n",
       "    </tr>\n",
       "    <tr>\n",
       "      <th>2</th>\n",
       "      <td>2</td>\n",
       "      <td>0</td>\n",
       "      <td>1</td>\n",
       "      <td>INTEGRA 1.8 2P MT</td>\n",
       "    </tr>\n",
       "    <tr>\n",
       "      <th>3</th>\n",
       "      <td>3</td>\n",
       "      <td>0</td>\n",
       "      <td>1</td>\n",
       "      <td>INTEGRA 1.8 VTEC 4P MT</td>\n",
       "    </tr>\n",
       "    <tr>\n",
       "      <th>4</th>\n",
       "      <td>4</td>\n",
       "      <td>0</td>\n",
       "      <td>1</td>\n",
       "      <td>LEGEND KA766P-L</td>\n",
       "    </tr>\n",
       "  </tbody>\n",
       "</table>\n",
       "</div>"
      ],
      "text/plain": [
       "   id  idClase  idMarca                    nombreMarca\n",
       "0   0        0        0                          ACURA\n",
       "1   1        0        1  INTEGRA (LINEA BASE ESTANDAR)\n",
       "2   2        0        1              INTEGRA 1.8 2P MT\n",
       "3   3        0        1         INTEGRA 1.8 VTEC 4P MT\n",
       "4   4        0        1                LEGEND KA766P-L"
      ]
     },
     "execution_count": 81,
     "metadata": {},
     "output_type": "execute_result"
    }
   ],
   "source": [
    "VehiculosLinea.head()"
   ]
  },
  {
   "cell_type": "code",
   "execution_count": 82,
   "metadata": {},
   "outputs": [
    {
     "data": {
      "text/html": [
       "<div>\n",
       "<style scoped>\n",
       "    .dataframe tbody tr th:only-of-type {\n",
       "        vertical-align: middle;\n",
       "    }\n",
       "\n",
       "    .dataframe tbody tr th {\n",
       "        vertical-align: top;\n",
       "    }\n",
       "\n",
       "    .dataframe thead th {\n",
       "        text-align: right;\n",
       "    }\n",
       "</style>\n",
       "<table border=\"1\" class=\"dataframe\">\n",
       "  <thead>\n",
       "    <tr style=\"text-align: right;\">\n",
       "      <th></th>\n",
       "      <th>id</th>\n",
       "      <th>nombreClase</th>\n",
       "    </tr>\n",
       "  </thead>\n",
       "  <tbody>\n",
       "    <tr>\n",
       "      <th>0</th>\n",
       "      <td>0</td>\n",
       "      <td>AUTOMOVIL</td>\n",
       "    </tr>\n",
       "    <tr>\n",
       "      <th>1</th>\n",
       "      <td>1</td>\n",
       "      <td>MOTOCICLETA</td>\n",
       "    </tr>\n",
       "    <tr>\n",
       "      <th>2</th>\n",
       "      <td>2</td>\n",
       "      <td>MOTOCARRO ELECTRICO</td>\n",
       "    </tr>\n",
       "    <tr>\n",
       "      <th>3</th>\n",
       "      <td>3</td>\n",
       "      <td>MOTOCARRO</td>\n",
       "    </tr>\n",
       "    <tr>\n",
       "      <th>4</th>\n",
       "      <td>4</td>\n",
       "      <td>CUATRIMOTO</td>\n",
       "    </tr>\n",
       "  </tbody>\n",
       "</table>\n",
       "</div>"
      ],
      "text/plain": [
       "   id          nombreClase\n",
       "0   0            AUTOMOVIL\n",
       "1   1          MOTOCICLETA\n",
       "2   2  MOTOCARRO ELECTRICO\n",
       "3   3            MOTOCARRO\n",
       "4   4           CUATRIMOTO"
      ]
     },
     "execution_count": 82,
     "metadata": {},
     "output_type": "execute_result"
    }
   ],
   "source": [
    "clasesVehiculos.head()"
   ]
  },
  {
   "cell_type": "code",
   "execution_count": 83,
   "metadata": {},
   "outputs": [
    {
     "data": {
      "text/html": [
       "<div>\n",
       "<style scoped>\n",
       "    .dataframe tbody tr th:only-of-type {\n",
       "        vertical-align: middle;\n",
       "    }\n",
       "\n",
       "    .dataframe tbody tr th {\n",
       "        vertical-align: top;\n",
       "    }\n",
       "\n",
       "    .dataframe thead th {\n",
       "        text-align: right;\n",
       "    }\n",
       "</style>\n",
       "<table border=\"1\" class=\"dataframe\">\n",
       "  <thead>\n",
       "    <tr style=\"text-align: right;\">\n",
       "      <th></th>\n",
       "      <th>id</th>\n",
       "      <th>idClase</th>\n",
       "      <th>nombreMarca</th>\n",
       "    </tr>\n",
       "  </thead>\n",
       "  <tbody>\n",
       "    <tr>\n",
       "      <th>0</th>\n",
       "      <td>0</td>\n",
       "      <td>0</td>\n",
       "      <td>ACCURA</td>\n",
       "    </tr>\n",
       "    <tr>\n",
       "      <th>1</th>\n",
       "      <td>1</td>\n",
       "      <td>0</td>\n",
       "      <td>ACURA</td>\n",
       "    </tr>\n",
       "    <tr>\n",
       "      <th>2</th>\n",
       "      <td>2</td>\n",
       "      <td>0</td>\n",
       "      <td>ALEKO</td>\n",
       "    </tr>\n",
       "    <tr>\n",
       "      <th>3</th>\n",
       "      <td>3</td>\n",
       "      <td>0</td>\n",
       "      <td>ALFA ROMEO</td>\n",
       "    </tr>\n",
       "    <tr>\n",
       "      <th>4</th>\n",
       "      <td>4</td>\n",
       "      <td>0</td>\n",
       "      <td>ASTON MARTIN</td>\n",
       "    </tr>\n",
       "  </tbody>\n",
       "</table>\n",
       "</div>"
      ],
      "text/plain": [
       "   id  idClase   nombreMarca\n",
       "0   0        0        ACCURA\n",
       "1   1        0         ACURA\n",
       "2   2        0         ALEKO\n",
       "3   3        0    ALFA ROMEO\n",
       "4   4        0  ASTON MARTIN"
      ]
     },
     "execution_count": 83,
     "metadata": {},
     "output_type": "execute_result"
    }
   ],
   "source": [
    "VehiculosMarca.head()"
   ]
  },
  {
   "cell_type": "code",
   "execution_count": 84,
   "metadata": {},
   "outputs": [
    {
     "name": "stdout",
     "output_type": "stream",
     "text": [
      "0\n"
     ]
    }
   ],
   "source": [
    "print(getIDvehicle(\"AUTOMOVIL\"))"
   ]
  },
  {
   "cell_type": "code",
   "execution_count": 85,
   "metadata": {},
   "outputs": [],
   "source": [
    "VehiculosMarca.to_csv('marca.csv')\n",
    "clasesVehiculos.to_csv('clase.csv')\n",
    "VehiculosLinea.to_csv('linea.csv')"
   ]
  }
 ],
 "metadata": {
  "kernelspec": {
   "display_name": "Python 3",
   "language": "python",
   "name": "python3"
  },
  "language_info": {
   "codemirror_mode": {
    "name": "ipython",
    "version": 3
   },
   "file_extension": ".py",
   "mimetype": "text/x-python",
   "name": "python",
   "nbconvert_exporter": "python",
   "pygments_lexer": "ipython3",
   "version": "3.7.3"
  }
 },
 "nbformat": 4,
 "nbformat_minor": 2
}
